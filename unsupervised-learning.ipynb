{
 "cells": [
  {
   "cell_type": "code",
   "execution_count": 1,
   "id": "qualified-familiar",
   "metadata": {},
   "outputs": [],
   "source": [
    "\"\"\"\n",
    "Author: Anmolbir Mann \n",
    "Email: amann33@gatech.edu \n",
    "CS7641 Assignment 3: Unsupervised Learning\n",
    "\n",
    "This Notebook is mainly for exploring/developing \n",
    "see/use final python script, main.py to generate final results\n",
    "\"\"\"\n",
    "\n",
    "%matplotlib inline\n",
    "import matplotlib\n",
    "from matplotlib import pyplot as plt\n",
    "import seaborn as sns\n",
    "import pandas as pd\n",
    "import numpy as np\n",
    "import json\n",
    "import time\n",
    "\n",
    "# set up matplotlib\n",
    "is_ipython = 'inline' in matplotlib.get_backend()\n",
    "if is_ipython:\n",
    "    from IPython import display\n",
    "plt.ion()\n",
    "\n",
    "from sklearn.metrics import silhouette_score, mean_squared_error\n",
    "from sklearn.cluster import KMeans\n",
    "from sklearn.mixture import GaussianMixture\n",
    "from sklearn.decomposition import PCA, FastICA\n",
    "from sklearn.random_projection import GaussianRandomProjection\n",
    "from unsupervised_learner import process_data, searchk_kmeans, search_components_gm, run_pca, plot_data, plot_tsne, run_ica\n",
    "from sklearn.manifold import TSNE\n",
    "\n",
    "RANDOM_SEED = 1994540101\n",
    "np.random.seed(RANDOM_SEED) # keep results consistent"
   ]
  },
  {
   "cell_type": "code",
   "execution_count": 2,
   "id": "early-anthony",
   "metadata": {},
   "outputs": [],
   "source": [
    "data = pd.read_csv(\"data/diabetes.csv\")\n",
    "x = data.iloc[:,:-1]\n",
    "y = data.iloc[:,-1]\n",
    "\n",
    "x_train, x_test, y_train, y_test = process_data(x, y)"
   ]
  },
  {
   "cell_type": "code",
   "execution_count": 3,
   "id": "hydraulic-crack",
   "metadata": {},
   "outputs": [],
   "source": [
    "inertias, clusters_range, best_n_clusters = searchk_kmeans(x_train)"
   ]
  },
  {
   "cell_type": "code",
   "execution_count": null,
   "id": "analyzed-anaheim",
   "metadata": {},
   "outputs": [],
   "source": [
    "plot_config = {\n",
    "    \"x\": clusters_range,\n",
    "    \"y\": inertias,\n",
    "    \"xlabel\": 'Number of clusters',\n",
    "    \"ylabel\": 'Sum of Squared Distances',\n",
    "    \"title\": 'K Means: Number of Clusters vs Sum of Squared Distances'\n",
    "}\n",
    "plot_data(**plot_config)"
   ]
  },
  {
   "cell_type": "code",
   "execution_count": null,
   "id": "copyrighted-climate",
   "metadata": {},
   "outputs": [],
   "source": [
    "result = KMeans(n_clusters=best_n_clusters, init='random', n_init=10, max_iter=100, tol=1e-04, random_state=RANDOM_SEED)\n",
    "km = result.fit(x_train)"
   ]
  },
  {
   "cell_type": "code",
   "execution_count": null,
   "id": "finnish-start",
   "metadata": {},
   "outputs": [],
   "source": [
    "result.n_iter_ < result.max_iter # convergence"
   ]
  },
  {
   "cell_type": "code",
   "execution_count": null,
   "id": "vocal-madrid",
   "metadata": {},
   "outputs": [],
   "source": [
    "plot_tsne(x_train, result.labels_, best_n_clusters, title=f\"TSNE Visualization K means labeling with {best_n_clusters} clusters\")"
   ]
  }
 ],
 "metadata": {
  "kernelspec": {
   "display_name": "Python 3",
   "language": "python",
   "name": "python3"
  },
  "language_info": {
   "codemirror_mode": {
    "name": "ipython",
    "version": 3
   },
   "file_extension": ".py",
   "mimetype": "text/x-python",
   "name": "python",
   "nbconvert_exporter": "python",
   "pygments_lexer": "ipython3",
   "version": "3.9.2"
  }
 },
 "nbformat": 4,
 "nbformat_minor": 5
}
