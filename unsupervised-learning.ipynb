{
 "cells": [
  {
   "cell_type": "code",
   "execution_count": 1,
   "id": "hundred-intellectual",
   "metadata": {},
   "outputs": [],
   "source": [
    "\"\"\"\n",
    "Author: Anmolbir Mann \n",
    "Email: amann33@gatech.edu \n",
    "CS7641 Assignment 3: Unsupervised Learning\n",
    "\n",
    "This Notebook is mainly for exploring/developing \n",
    "see/use final python script, main.py to generate final results\n",
    "\"\"\"\n",
    "\n",
    "%matplotlib inline\n",
    "import matplotlib\n",
    "from matplotlib import pyplot as plt\n",
    "import seaborn as sns\n",
    "import pandas as pd\n",
    "import numpy as np\n",
    "import json\n",
    "import time\n",
    "\n",
    "# set up matplotlib\n",
    "is_ipython = 'inline' in matplotlib.get_backend()\n",
    "if is_ipython:\n",
    "    from IPython import display\n",
    "plt.ion()\n",
    "\n",
    "from sklearn.metrics import silhouette_score, mean_squared_error\n",
    "from sklearn.cluster import KMeans\n",
    "from sklearn.mixture import GaussianMixture\n",
    "from sklearn.decomposition import PCA, FastICA\n",
    "from sklearn.random_projection import GaussianRandomProjection\n",
    "from unsupervised_learner import process_data, searchk_kmeans, search_components_gm, run_pca, plot_data, plot_tsne, run_ica\n",
    "from sklearn.manifold import TSNE\n",
    "\n",
    "RANDOM_SEED = 1994540101\n",
    "np.random.seed(RANDOM_SEED) # keep results consistent"
   ]
  },
  {
   "cell_type": "code",
   "execution_count": 2,
   "id": "affiliated-grove",
   "metadata": {},
   "outputs": [],
   "source": [
    "data = pd.read_csv(\"data/diabetes.csv\")\n",
    "x = data.iloc[:,:-1]\n",
    "y = data.iloc[:,-1]\n",
    "\n",
    "x_train, x_test, y_train, y_test = process_data(x, y)"
   ]
  },
  {
   "cell_type": "code",
   "execution_count": 3,
   "id": "copyrighted-roulette",
   "metadata": {},
   "outputs": [],
   "source": [
    "inertias, clusters_range, best_n_clusters = searchk_kmeans(x_train)"
   ]
  },
  {
   "cell_type": "code",
   "execution_count": null,
   "id": "moral-robertson",
   "metadata": {},
   "outputs": [],
   "source": [
    "plot_config = {\n",
    "    \"x\": clusters_range,\n",
    "    \"y\": inertias,\n",
    "    \"xlabel\": 'Number of clusters',\n",
    "    \"ylabel\": 'Sum of Squared Distances',\n",
    "    \"title\": 'K Means: Number of Clusters vs Sum of Squared Distances'\n",
    "}\n",
    "plot_data(**plot_config)"
   ]
  },
  {
   "cell_type": "code",
   "execution_count": null,
   "id": "confidential-profession",
   "metadata": {},
   "outputs": [],
   "source": [
    "result = KMeans(n_clusters=best_n_clusters, init='random', n_init=10, max_iter=100, tol=1e-04, random_state=RANDOM_SEED)\n",
    "km = result.fit(x_train)"
   ]
  },
  {
   "cell_type": "code",
   "execution_count": null,
   "id": "corresponding-wesley",
   "metadata": {},
   "outputs": [],
   "source": [
    "result.n_iter_ < result.max_iter # convergence"
   ]
  },
  {
   "cell_type": "code",
   "execution_count": null,
   "id": "reflected-pocket",
   "metadata": {},
   "outputs": [],
   "source": [
    "plot_tsne(x_train, result.labels_, best_n_clusters, title=f\"TSNE Visualization K means labeling with {best_n_clusters} clusters\")"
   ]
  },
  {
   "cell_type": "code",
   "execution_count": null,
   "id": "familiar-richmond",
   "metadata": {},
   "outputs": [],
   "source": [
    "bic_results, component_range, best_n_components = search_components_gm(x_train)"
   ]
  },
  {
   "cell_type": "code",
   "execution_count": null,
   "id": "aggregate-vocabulary",
   "metadata": {},
   "outputs": [],
   "source": [
    "plot_config = {\n",
    "    \"x\": component_range,\n",
    "    \"y\": bic_results,\n",
    "    \"xlabel\": 'BIC',\n",
    "    \"ylabel\": 'BIC',\n",
    "    \"title\": 'EM: Number of Components vs BIC'\n",
    "}\n",
    "plot_data(**plot_config)"
   ]
  },
  {
   "cell_type": "code",
   "execution_count": null,
   "id": "equivalent-juvenile",
   "metadata": {},
   "outputs": [],
   "source": [
    "result = GaussianMixture(n_components=best_n_components, random_state=RANDOM_SEED, n_init=10)\n",
    "result.fit(x_train)\n",
    "labels = result.predict(x_train)"
   ]
  },
  {
   "cell_type": "code",
   "execution_count": null,
   "id": "together-interest",
   "metadata": {},
   "outputs": [],
   "source": [
    "result.n_iter_ < result.max_iter # convergence"
   ]
  },
  {
   "cell_type": "code",
   "execution_count": null,
   "id": "electric-miller",
   "metadata": {},
   "outputs": [],
   "source": [
    "plot_tsne(x_train, labels, best_n_components, title=f\"TSNE Visualization EM labeling with {best_n_components} components\", perplexity=30.)"
   ]
  },
  {
   "cell_type": "code",
   "execution_count": null,
   "id": "solid-unemployment",
   "metadata": {},
   "outputs": [],
   "source": [
    "x_pca, num_components = run_pca(x_train)"
   ]
  },
  {
   "cell_type": "code",
   "execution_count": null,
   "id": "restricted-halloween",
   "metadata": {},
   "outputs": [],
   "source": [
    "inertias, clusters_range, best_n_clusters = searchk_kmeans(x_pca)"
   ]
  },
  {
   "cell_type": "code",
   "execution_count": null,
   "id": "competitive-specification",
   "metadata": {},
   "outputs": [],
   "source": [
    "plot_config = {\n",
    "    \"x\": clusters_range,\n",
    "    \"y\": inertias,\n",
    "    \"xlabel\": 'Number of clusters',\n",
    "    \"ylabel\": 'Sum of Squared Distances',\n",
    "    \"title\": 'K Means: Number of Clusters vs Sum of Squared Distances'\n",
    "}\n",
    "plot_data(**plot_config)"
   ]
  },
  {
   "cell_type": "code",
   "execution_count": null,
   "id": "hindu-pointer",
   "metadata": {},
   "outputs": [],
   "source": [
    "result = KMeans(n_clusters=best_n_clusters, init='random', n_init=100, max_iter=100, tol=1e-04, random_state=RANDOM_SEED)\n",
    "km = result.fit(x_pca)"
   ]
  },
  {
   "cell_type": "code",
   "execution_count": null,
   "id": "departmental-certification",
   "metadata": {},
   "outputs": [],
   "source": [
    "plot_tsne(x_pca, result.labels_, best_n_clusters, title=f\"TSNE Visualization K means labeling with {best_n_clusters} clusters\", perplexity=20)"
   ]
  },
  {
   "cell_type": "code",
   "execution_count": null,
   "id": "oriented-release",
   "metadata": {},
   "outputs": [],
   "source": [
    "x_ica, n = run_ica(x_train)"
   ]
  },
  {
   "cell_type": "code",
   "execution_count": null,
   "id": "working-heading",
   "metadata": {},
   "outputs": [],
   "source": [
    "inertias, clusters_range, best_n_clusters = searchk_kmeans(x_ica)"
   ]
  },
  {
   "cell_type": "code",
   "execution_count": null,
   "id": "searching-knight",
   "metadata": {},
   "outputs": [],
   "source": [
    "result = KMeans(n_clusters=best_n_clusters, init='random', n_init=100, max_iter=100, tol=1e-04, random_state=RANDOM_SEED)\n",
    "km = result.fit(x_ica)"
   ]
  },
  {
   "cell_type": "code",
   "execution_count": null,
   "id": "assisted-january",
   "metadata": {},
   "outputs": [],
   "source": [
    "plot_tsne(x_ica, result.labels_, best_n_clusters, title=f\"TSNE Visualization K means labeling with {best_n_clusters} clusters\", perplexity=30.)"
   ]
  },
  {
   "cell_type": "code",
   "execution_count": null,
   "id": "conventional-reputation",
   "metadata": {},
   "outputs": [],
   "source": [
    "pd.DataFrame(x_train).kurt(axis=0).abs().mean()"
   ]
  },
  {
   "cell_type": "code",
   "execution_count": null,
   "id": "mexican-aggregate",
   "metadata": {},
   "outputs": [],
   "source": [
    "loss_results, x_rp, n = run_rp(x_train)"
   ]
  },
  {
   "cell_type": "code",
   "execution_count": null,
   "id": "narrative-remainder",
   "metadata": {},
   "outputs": [],
   "source": []
  }
 ],
 "metadata": {
  "kernelspec": {
   "display_name": "Python 3",
   "language": "python",
   "name": "python3"
  },
  "language_info": {
   "codemirror_mode": {
    "name": "ipython",
    "version": 3
   },
   "file_extension": ".py",
   "mimetype": "text/x-python",
   "name": "python",
   "nbconvert_exporter": "python",
   "pygments_lexer": "ipython3",
   "version": "3.9.2"
  }
 },
 "nbformat": 4,
 "nbformat_minor": 5
}
